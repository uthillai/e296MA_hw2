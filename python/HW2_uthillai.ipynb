{
 "cells": [
  {
   "cell_type": "code",
   "execution_count": 1,
   "metadata": {
    "collapsed": true
   },
   "outputs": [],
   "source": [
    "class Environment:\n",
    "\n",
    "    def __init__(self):\n",
    "        self.cars = []\n",
    "\n",
    "    def add_car(self, car):\n",
    "        self.cars.append(car)"
   ]
  },
  {
   "cell_type": "code",
   "execution_count": 2,
   "metadata": {
    "collapsed": true
   },
   "outputs": [],
   "source": [
    "class Car:\n",
    "\n",
    "    def __init__(self,driver, weight, max_speed, max_acceleration):\n",
    "        self.driver = driver\n",
    "        self.weight = weight\n",
    "        self.current_speed = 0\n",
    "        self.max_speed = max_speed\n",
    "        self.max_acceleration = max_acceleration\n",
    "        self.position = 0\n",
    "\n",
    "    def stopping_distance(self):\n",
    "        return 0.5 * self.current_speed*self.current_speed / self.max_acceleration;"
   ]
  },
  {
   "cell_type": "code",
   "execution_count": 3,
   "metadata": {
    "collapsed": true
   },
   "outputs": [],
   "source": [
    "from abc import ABCMeta, abstractmethod\n",
    "\n",
    "\n",
    "class Driver:\n",
    "    __metaclass__ = ABCMeta\n",
    "\n",
    "    def __init__(self, name, weight):\n",
    "        self.name = name\n",
    "        self.weight = weight\n",
    "\n",
    "    @abstractmethod\n",
    "    def throttle_action( car,  env):\n",
    "        pass\n",
    "\n",
    "    @abstractmethod\n",
    "    def stop_for_refueling( car,  env):\n",
    "        pass\n",
    "\n",
    "\n",
    "class ChillDriver(Driver):\n",
    "\n",
    "    def throttle_action(self, car, env):\n",
    "        if car.current_speed < car.max_speed:\n",
    "            return 0.5 * car.max_acceleration\n",
    "        else:\n",
    "            return -0.5 * car.max_acceleration\n",
    "\n",
    "    def stop_for_refueling(car,  env):\n",
    "        next_station = env.get_next_station_following(car.position)\n",
    "        stop_at = car.position + car.stopping_distance()\n",
    "\n",
    "        if stop_at<next_station:\n",
    "            return True\n",
    "        else:\n",
    "            return False\n",
    "\n",
    "\n",
    "class AggressiveDriver(Car):\n",
    "    def throttle_action(self, car, env):\n",
    "        if car.current_speed < car.max_speed:\n",
    "            return car.max_acceleration\n",
    "        else:\n",
    "            return -car.max_acceleration\n",
    "\n",
    "    def stop_for_refueling(car, env):\n",
    "        return False"
   ]
  },
  {
   "cell_type": "code",
   "execution_count": 4,
   "metadata": {},
   "outputs": [
    {
     "ename": "NameError",
     "evalue": "name 'Car' is not defined",
     "output_type": "error",
     "traceback": [
      "\u001b[1;31m---------------------------------------------------------------------------\u001b[0m",
      "\u001b[1;31mNameError\u001b[0m                                 Traceback (most recent call last)",
      "\u001b[1;32m<ipython-input-4-15999cddc3da>\u001b[0m in \u001b[0;36m<module>\u001b[1;34m()\u001b[0m\n\u001b[0;32m      1\u001b[0m \u001b[1;32mfrom\u001b[0m \u001b[0mEnvironment\u001b[0m \u001b[1;32mimport\u001b[0m \u001b[0mEnvironment\u001b[0m\u001b[1;33m\u001b[0m\u001b[0m\n\u001b[1;32m----> 2\u001b[1;33m \u001b[1;32mfrom\u001b[0m \u001b[0mDriver\u001b[0m \u001b[1;32mimport\u001b[0m \u001b[0mAggressiveDriver\u001b[0m\u001b[1;33m,\u001b[0m \u001b[0mChillDriver\u001b[0m\u001b[1;33m\u001b[0m\u001b[0m\n\u001b[0m\u001b[0;32m      3\u001b[0m \u001b[1;32mfrom\u001b[0m \u001b[0mCar\u001b[0m \u001b[1;32mimport\u001b[0m \u001b[0mCar\u001b[0m\u001b[1;33m\u001b[0m\u001b[0m\n\u001b[0;32m      4\u001b[0m \u001b[1;33m\u001b[0m\u001b[0m\n\u001b[0;32m      5\u001b[0m \u001b[1;33m\u001b[0m\u001b[0m\n",
      "\u001b[1;32mC:\\Users\\uthil\\Documents\\GitHub\\e296MA_hw2\\python\\Driver.py\u001b[0m in \u001b[0;36m<module>\u001b[1;34m()\u001b[0m\n\u001b[0;32m     36\u001b[0m \u001b[1;33m\u001b[0m\u001b[0m\n\u001b[0;32m     37\u001b[0m \u001b[1;33m\u001b[0m\u001b[0m\n\u001b[1;32m---> 38\u001b[1;33m \u001b[1;32mclass\u001b[0m \u001b[0mAggressiveDriver\u001b[0m\u001b[1;33m(\u001b[0m\u001b[0mCar\u001b[0m\u001b[1;33m)\u001b[0m\u001b[1;33m:\u001b[0m\u001b[1;33m\u001b[0m\u001b[0m\n\u001b[0m\u001b[0;32m     39\u001b[0m     \u001b[1;32mdef\u001b[0m \u001b[0mthrottle_action\u001b[0m\u001b[1;33m(\u001b[0m\u001b[0mself\u001b[0m\u001b[1;33m,\u001b[0m \u001b[0mcar\u001b[0m\u001b[1;33m,\u001b[0m \u001b[0menv\u001b[0m\u001b[1;33m)\u001b[0m\u001b[1;33m:\u001b[0m\u001b[1;33m\u001b[0m\u001b[0m\n\u001b[0;32m     40\u001b[0m         \u001b[1;32mif\u001b[0m \u001b[0mcar\u001b[0m\u001b[1;33m.\u001b[0m\u001b[0mcurrent_speed\u001b[0m \u001b[1;33m<\u001b[0m \u001b[0mcar\u001b[0m\u001b[1;33m.\u001b[0m\u001b[0mmax_speed\u001b[0m\u001b[1;33m:\u001b[0m\u001b[1;33m\u001b[0m\u001b[0m\n",
      "\u001b[1;31mNameError\u001b[0m: name 'Car' is not defined"
     ]
    }
   ],
   "source": [
    "from Environment import Environment\n",
    "from Driver import AggressiveDriver, ChillDriver\n",
    "from Car import Car\n",
    "\n",
    "\n",
    "car1 = Car(ChillDriver(\"Chris Dunlop\", 130), 800, 40, 5)\n",
    "car2 = Car(AggressiveDriver(\"Ann Merriweather\", 160), 400, 60, 7)\n",
    "\n",
    "env = Environment()\n",
    "env.add_car(car1)\n",
    "env.add_car(car2)\n",
    "\n",
    "print('Success!')"
   ]
  },
  {
   "cell_type": "code",
   "execution_count": null,
   "metadata": {
    "collapsed": true
   },
   "outputs": [],
   "source": []
  }
 ],
 "metadata": {
  "kernelspec": {
   "display_name": "Python 3",
   "language": "python",
   "name": "python3"
  },
  "language_info": {
   "codemirror_mode": {
    "name": "ipython",
    "version": 3
   },
   "file_extension": ".py",
   "mimetype": "text/x-python",
   "name": "python",
   "nbconvert_exporter": "python",
   "pygments_lexer": "ipython3",
   "version": "3.6.1"
  }
 },
 "nbformat": 4,
 "nbformat_minor": 2
}
